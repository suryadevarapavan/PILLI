{
 "cells": [
  {
   "cell_type": "code",
   "execution_count": 23,
   "metadata": {},
   "outputs": [
    {
     "name": "stdout",
     "output_type": "stream",
     "text": [
      "BOWW!! BOWW!!\n",
      "HAPPY!!!\n",
      "HAPPY!!!\n"
     ]
    }
   ],
   "source": [
    "from datetime import datetime\n",
    "t=datetime.now()\n",
    "def happy(r):\n",
    "    if r%2==0:\n",
    "        #print(\"FED\")\n",
    "        return True\n",
    "    else:\n",
    "        #print(\"NOT FED\")\n",
    "        return False\n",
    "def test(r):\n",
    "    if (happy(r)):\n",
    "        print(\"HAPPY!!!\")\n",
    "        return True\n",
    "    else:\n",
    "        #print(\"NOT HAPPY\")\n",
    "        return False\n",
    "while(1):\n",
    "    print(\"BOWW!! BOWW!!\")\n",
    "    r=t.hour\n",
    "    test(r)\n",
    "    if (test(r)!=True):\n",
    "        i=input(\"WANT TO MAKE HAPPY Y/n\").lower()\n",
    "        if i==\"y\":\n",
    "            happy(r+1)\n",
    "            test(r+1)\n",
    "        else:\n",
    "            happy(r)\n",
    "            test(r)\n",
    "    else:\n",
    "        happy(r)\n",
    "    break"
   ]
  },
  {
   "cell_type": "code",
   "execution_count": null,
   "metadata": {},
   "outputs": [],
   "source": []
  }
 ],
 "metadata": {
  "kernelspec": {
   "display_name": "Python 3",
   "language": "python",
   "name": "python3"
  },
  "language_info": {
   "codemirror_mode": {
    "name": "ipython",
    "version": 3
   },
   "file_extension": ".py",
   "mimetype": "text/x-python",
   "name": "python",
   "nbconvert_exporter": "python",
   "pygments_lexer": "ipython3",
   "version": "3.7.0"
  }
 },
 "nbformat": 4,
 "nbformat_minor": 2
}
